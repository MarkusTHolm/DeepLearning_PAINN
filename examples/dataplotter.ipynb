{
 "cells": [
  {
   "cell_type": "code",
   "execution_count": null,
   "metadata": {},
   "outputs": [
    {
     "ename": "",
     "evalue": "",
     "output_type": "error",
     "traceback": [
      "\u001b[1;31mRunning cells with 'usr (Python 3.9.18)' requires the ipykernel package.\n",
      "\u001b[1;31mRun the following command to install 'ipykernel' into the Python environment. \n",
      "\u001b[1;31mCommand: '/bin/python -m pip install ipykernel -U --force-reinstall'"
     ]
    }
   ],
   "source": [
    "import os\n",
    "import sys\n",
    "import pickle\n",
    "import matplotlib.pyplot as plt\n",
    "import numpy as np\n",
    "\n",
    "from plot_settings import define_plot_settings\n",
    "\n",
    "project_dir = os.path.abspath('..')\n",
    "print(f\"Project directory: {project_dir}\")\n",
    "sys.path.append(os.path.join(project_dir))"
   ]
  },
  {
   "cell_type": "markdown",
   "metadata": {},
   "source": [
    "## Training history\n",
    "\n",
    "Load training history data"
   ]
  },
  {
   "cell_type": "code",
   "execution_count": null,
   "metadata": {},
   "outputs": [],
   "source": [
    "relative_path = 'runs/train/20241120_1222_1'\n",
    "\n",
    "data_path = f\"{project_dir}/{relative_path}/data.pickle\"\n",
    "\n",
    "with open(data_path, 'rb') as f:\n",
    "    data = pickle.load(f)\n",
    "\n",
    "for key in data:\n",
    "    data[key] = np.array(data[key])"
   ]
  },
  {
   "cell_type": "code",
   "execution_count": null,
   "metadata": {},
   "outputs": [],
   "source": [
    "fig, (ax1, ax2) = plt.subplots(2, 1, figsize=(10, 5), height_ratios=[1, 0.5])\n",
    "\n",
    "define_plot_settings(14)\n",
    "\n",
    "lw = 1.5\n",
    "# Plot primary y-axis (losses) on the first subplot\n",
    "ax1.semilogy(data['epoch'], data['train_loss'],'-', lw=lw, label='Training')\n",
    "ax1.semilogy(data['epoch'], data['val_loss'],'-', lw=lw, label='Validation')\n",
    "# ax1.set_xlabel('Epoch')\n",
    "ax1.set_ylabel('Loss')\n",
    "ax1.legend(loc='upper right')  # Legend for the first y-axis\n",
    "ax1.grid(True)\n",
    "\n",
    "# Plot secondary y-axis (learning rate) on the second subplot\n",
    "ax2.semilogy(data['epoch'], data['lr'], 'k-', label='Learning Rate')\n",
    "ax2.set_xlabel('Epoch')\n",
    "ax2.set_ylabel('Learning Rate', color='k')\n",
    "ax2.tick_params(axis='y', labelcolor='k')\n",
    "ax2.legend(loc='upper right')  # Combine legends\n",
    "ax2.grid(True)\n",
    "\n",
    "plt.suptitle('Training Progress')\n",
    "fig.tight_layout()"
   ]
  },
  {
   "cell_type": "markdown",
   "metadata": {},
   "source": [
    "## Trained model \n",
    "\n",
    "Load trained model"
   ]
  },
  {
   "cell_type": "code",
   "execution_count": null,
   "metadata": {},
   "outputs": [],
   "source": [
    "from src.models import model_loader\n",
    "checkpoint_path = f\"{project_dir}/examples/model_checkpoint.pth\"\n",
    "\n",
    "painn, metadata = model_loader.load_checkpoint(checkpoint_path);\n",
    "\n",
    "print(painn)\n"
   ]
  }
 ],
 "metadata": {
  "kernelspec": {
   "display_name": "usr",
   "language": "python",
   "name": "python3"
  },
  "language_info": {
   "codemirror_mode": {
    "name": "ipython",
    "version": 3
   },
   "file_extension": ".py",
   "mimetype": "text/x-python",
   "name": "python",
   "nbconvert_exporter": "python",
   "pygments_lexer": "ipython3",
   "version": "3.9.18"
  }
 },
 "nbformat": 4,
 "nbformat_minor": 2
}
